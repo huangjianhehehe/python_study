{
 "cells": [
  {
   "cell_type": "code",
   "execution_count": 3,
   "metadata": {},
   "outputs": [],
   "source": [
    "import pandas as pd\n",
    "import numpy as np\n",
    "# DataFrame 数据框的创建  --三种方式"
   ]
  },
  {
   "cell_type": "code",
   "execution_count": 4,
   "metadata": {},
   "outputs": [
    {
     "name": "stdout",
     "output_type": "stream",
     "text": [
      "[1 2 3 4 5 6] <class 'numpy.ndarray'>\n"
     ]
    }
   ],
   "source": [
    "#Series序列\n",
    "a = np.array([1,2,3,4,5,6])\n",
    "print(a,type(a))"
   ]
  },
  {
   "cell_type": "code",
   "execution_count": 9,
   "metadata": {},
   "outputs": [
    {
     "name": "stdout",
     "output_type": "stream",
     "text": [
      "0    1\n",
      "1    2\n",
      "2    3\n",
      "3    4\n",
      "4    5\n",
      "5    6\n",
      "dtype: int32 <class 'pandas.core.series.Series'>\n"
     ]
    }
   ],
   "source": [
    "a_S = pd.Series(a)\n",
    "print(a_S,type(a_S))"
   ]
  },
  {
   "cell_type": "code",
   "execution_count": 13,
   "metadata": {},
   "outputs": [
    {
     "name": "stdout",
     "output_type": "stream",
     "text": [
      "a    10\n",
      "b    20\n",
      "c    30\n",
      "d    40\n",
      "e    50\n",
      "dtype: int64 <class 'pandas.core.series.Series'>\n"
     ]
    }
   ],
   "source": [
    "#通过字典来创建\n",
    "a = {'a':10,'b':20,'c':30,'d':40,'e':50}\n",
    "a_SS =pd.Series(a)\n",
    "print(a_SS,type(a_SS))"
   ]
  },
  {
   "cell_type": "code",
   "execution_count": 14,
   "metadata": {},
   "outputs": [
    {
     "name": "stdout",
     "output_type": "stream",
     "text": [
      "[[ 0  1  2  3]\n",
      " [ 4  5  6  7]\n",
      " [ 8  9 10 11]] <class 'numpy.ndarray'>\n"
     ]
    }
   ],
   "source": [
    "# 二维数组\n",
    "a2 = np.arange(12).reshape(3,4)  # 定义一个二维数组\n",
    "print(a2,type(a2))"
   ]
  },
  {
   "cell_type": "code",
   "execution_count": 16,
   "metadata": {},
   "outputs": [
    {
     "name": "stdout",
     "output_type": "stream",
     "text": [
      "   0  1   2   3\n",
      "0  0  1   2   3\n",
      "1  4  5   6   7\n",
      "2  8  9  10  11 <class 'pandas.core.frame.DataFrame'>\n"
     ]
    }
   ],
   "source": [
    "aa2 = pd.DataFrame(a2)\n",
    "print(aa2,type(aa2))"
   ]
  },
  {
   "cell_type": "code",
   "execution_count": 17,
   "metadata": {},
   "outputs": [
    {
     "name": "stdout",
     "output_type": "stream",
     "text": [
      "   a  b   c   d\n",
      "0  1  5   9  13\n",
      "1  2  6  10  14\n",
      "2  3  7  11  15\n",
      "3  4  8  12  16 <class 'pandas.core.frame.DataFrame'>\n"
     ]
    }
   ],
   "source": [
    "# 列方式\n",
    "dic2 = {'a':[1,2,3,4],'b':[5,6,7,8],'c':[9,10,11,12],'d':[13,14,15,16]}\n",
    "aa3 = pd.DataFrame(dic2)\n",
    "print(aa3,type(aa3))"
   ]
  },
  {
   "cell_type": "code",
   "execution_count": 19,
   "metadata": {},
   "outputs": [
    {
     "name": "stdout",
     "output_type": "stream",
     "text": [
      "   a   c  b\n",
      "0  1   9  5\n",
      "1  2  10  6\n",
      "2  3  11  7\n",
      "3  4  12  8 <class 'pandas.core.frame.DataFrame'>\n"
     ]
    }
   ],
   "source": [
    "# 列方式\n",
    "dic2 = {'a':[1,2,3,4],'b':[5,6,7,8],'c':[9,10,11,12],'d':[13,14,15,16]}\n",
    "aa3 = pd.DataFrame(dic2)\n",
    "aa3_1 = aa3[['a','c','b']]\n",
    "print(aa3_1,type(aa3_1))"
   ]
  },
  {
   "cell_type": "code",
   "execution_count": 20,
   "metadata": {},
   "outputs": [],
   "source": [
    "po = pd.read_excel('./31300010401.xlsx')"
   ]
  },
  {
   "cell_type": "code",
   "execution_count": 21,
   "metadata": {},
   "outputs": [
    {
     "name": "stdout",
     "output_type": "stream",
     "text": [
      "           Frm_SN         To_SN   Procuct_Id  Sys_Date  Qty        SI  So_Id  \\\n",
      "0    UL1918C03281  UL1918C03300  31300010401  20200413   20  ZJ200412    NaN   \n",
      "1    UL1918C03321  UL1918C03340  31300010401  20200414   20  ZJ200412    NaN   \n",
      "2    UL1918C03481  UL1918C03500  31300010401  20200413   20  ZJ200412    NaN   \n",
      "3    UL1918C03841  UL1918C03860  31300010401  20200414   20  ZJ200412    NaN   \n",
      "4    UL1918C03901  UL1918C03920  31300010401  20200413   20  ZJ200412    NaN   \n",
      "5    UL1918C03941  UL1918C03960  31300010401  20200413   20  ZJ200412    NaN   \n",
      "6    UL1918C03981  UL1918C04000  31300010401  20200413   20  ZJ200412    NaN   \n",
      "7    UL1918C04041  UL1918C04060  31300010401  20200414   20  ZJ200412    NaN   \n",
      "8    UL1918C04081  UL1918C04100  31300010401  20200413   20  ZJ200412    NaN   \n",
      "9    UL1918C04121  UL1918C04140  31300010401  20200414   20  ZJ200412    NaN   \n",
      "10   UL1918C04141  UL1918C04160  31300010401  20200413   20  ZJ200412    NaN   \n",
      "11   UL1918C04241  UL1918C04260  31300010401  20200414   20  ZJ200412    NaN   \n",
      "12   UL1918C04341  UL1918C04360  31300010401  20200414   20  ZJ200412    NaN   \n",
      "13   UL1918C04361  UL1918C04380  31300010401  20200413   20  ZJ200412    NaN   \n",
      "14   UL1918C04401  UL1918C04420  31300010401  20200414   20  ZJ200412    NaN   \n",
      "15   UL1918C04441  UL1918C04460  31300010401  20200413   20  ZJ200412    NaN   \n",
      "16   UL1918C04541  UL1918C04560  31300010401  20200414   20  ZJ200412    NaN   \n",
      "17   UL1918C04621  UL1918C04640  31300010401  20200414   20  ZJ200412    NaN   \n",
      "18   UL1918C04641  UL1918C04660  31300010401  20200413   20  ZJ200412    NaN   \n",
      "19   UL1918C04661  UL1918C04680  31300010401  20200414   20  ZJ200412    NaN   \n",
      "20   UL1918C04681  UL1918C04700  31300010401  20200414   20  ZJ200412    NaN   \n",
      "21   UL1918C04721  UL1918C04740  31300010401  20200413   20  ZJ200413    NaN   \n",
      "22   UL1918C04761  UL1918C04780  31300010401  20200413   20  ZJ200413    NaN   \n",
      "23   UL1918C04781  UL1918C04800  31300010401  20200414   20  ZJ200412    NaN   \n",
      "24   UL1918C04821  UL1918C04840  31300010401  20200413   20  ZJ200412    NaN   \n",
      "25   UL1918C04981  UL1918C05000  31300010401  20200414   20  ZJ200412    NaN   \n",
      "26   UL1918C05021  UL1918C05040  31300010401  20200414   20  ZJ200412    NaN   \n",
      "27   UL1918C05081  UL1918C05100  31300010401  20200414   20  ZJ200412    NaN   \n",
      "28   UL1918C05141  UL1918C05160  31300010401  20200413   20  ZJ200412    NaN   \n",
      "29   UL1918C05181  UL1918C05200  31300010401  20200414   20  ZJ200412    NaN   \n",
      "..            ...           ...          ...       ...  ...       ...    ...   \n",
      "545  UL1918C20341  UL1918C20360  31300010401  20200413   20  ZJ200412    NaN   \n",
      "546  UL1918C20361  UL1918C20380  31300010401  20200413   20  ZJ200412    NaN   \n",
      "547  UL1918C20381  UL1918C20400  31300010401  20200413   20  ZJ200412    NaN   \n",
      "548  UL1918C20401  UL1918C20420  31300010401  20200413   20  ZJ200412    NaN   \n",
      "549  UL1918C20421  UL1918C20440  31300010401  20200413   20  ZJ200412    NaN   \n",
      "550  UL1918C20441  UL1918C20460  31300010401  20200413   20  ZJ200412    NaN   \n",
      "551  UL1918C20461  UL1918C20480  31300010401  20200413   20  ZJ200412    NaN   \n",
      "552  UL1918C20481  UL1918C20500  31300010401  20200413   20  ZJ200412    NaN   \n",
      "553  UL1918C20501  UL1918C20520  31300010401  20200413   20  ZJ200412    NaN   \n",
      "554  UL1918C20521  UL1918C20540  31300010401  20200413   20  ZJ200412    NaN   \n",
      "555  UL1918C20541  UL1918C20560  31300010401  20200413   20  ZJ200412    NaN   \n",
      "556  UL1918C20561  UL1918C20580  31300010401  20200413   20  ZJ200412    NaN   \n",
      "557  UL1918C20581  UL1918C20600  31300010401  20200413   20  ZJ200412    NaN   \n",
      "558  UL1918C20601  UL1918C20620  31300010401  20200413   20  ZJ200412    NaN   \n",
      "559  UL1918C20621  UL1918C20640  31300010401  20200413   20  ZJ200412    NaN   \n",
      "560  UL1918C20641  UL1918C20660  31300010401  20200413   20  ZJ200412    NaN   \n",
      "561  UL1918C20661  UL1918C20680  31300010401  20200413   20  ZJ200412    NaN   \n",
      "562  UL1918C20681  UL1918C20700  31300010401  20200413   20  ZJ200412    NaN   \n",
      "563  UL1918C20741  UL1918C20760  31300010401  20200413   20  ZJ200412    NaN   \n",
      "564  UL1918C20761  UL1918C20780  31300010401  20200413   20  ZJ200412    NaN   \n",
      "565  UL1918C20781  UL1918C20800  31300010401  20200413   20  ZJ200412    NaN   \n",
      "566  UL1918C20801  UL1918C20820  31300010401  20200413   20  ZJ200412    NaN   \n",
      "567  UL1918C20821  UL1918C20840  31300010401  20200413   20  ZJ200412    NaN   \n",
      "568  UL1918C20861  UL1918C20880  31300010401  20200413   20  ZJ200412    NaN   \n",
      "569  UL1918C20881  UL1918C20900  31300010401  20200413   20  ZJ200412    NaN   \n",
      "570  UL1918C20901  UL1918C20920  31300010401  20200413   20  ZJ200412    NaN   \n",
      "571  UL1918C20921  UL1918C20940  31300010401  20200413   20  ZJ200412    NaN   \n",
      "572  UL1918C20941  UL1918C20960  31300010401  20200413   20  ZJ200412    NaN   \n",
      "573  UL1918C20961  UL1918C20980  31300010401  20200413   20  ZJ200412    NaN   \n",
      "574  UL1918C20981  UL1918C21000  31300010401  20200413   20  ZJ200412    NaN   \n",
      "\n",
      "       Usr_Id  \n",
      "0    12057897  \n",
      "1    12036378  \n",
      "2    12057897  \n",
      "3    12036378  \n",
      "4    12057897  \n",
      "5    12057897  \n",
      "6    12057897  \n",
      "7    12036378  \n",
      "8    12057897  \n",
      "9    12036378  \n",
      "10   12057897  \n",
      "11   12036378  \n",
      "12   12036378  \n",
      "13   12057897  \n",
      "14   12036378  \n",
      "15   12057897  \n",
      "16   12036378  \n",
      "17   12036378  \n",
      "18   12057897  \n",
      "19   12036378  \n",
      "20   12036378  \n",
      "21   12057897  \n",
      "22   12057897  \n",
      "23   12036378  \n",
      "24   12057897  \n",
      "25   12036378  \n",
      "26   12036378  \n",
      "27   12036378  \n",
      "28   12057897  \n",
      "29   12036378  \n",
      "..        ...  \n",
      "545  12057897  \n",
      "546  12057897  \n",
      "547  12057897  \n",
      "548  12057897  \n",
      "549  12057897  \n",
      "550  12057897  \n",
      "551  12057897  \n",
      "552  12057897  \n",
      "553  12057897  \n",
      "554  12057897  \n",
      "555  12057897  \n",
      "556  12057897  \n",
      "557  12057897  \n",
      "558  12057897  \n",
      "559  12057897  \n",
      "560  12057897  \n",
      "561  12057897  \n",
      "562  12057897  \n",
      "563  12057897  \n",
      "564  12057897  \n",
      "565  12057897  \n",
      "566  12057897  \n",
      "567  12057897  \n",
      "568  12057897  \n",
      "569  12057897  \n",
      "570  12057897  \n",
      "571  12057897  \n",
      "572  12057897  \n",
      "573  12057897  \n",
      "574  12057897  \n",
      "\n",
      "[575 rows x 8 columns]\n"
     ]
    }
   ],
   "source": [
    "print(po)"
   ]
  },
  {
   "cell_type": "code",
   "execution_count": 26,
   "metadata": {},
   "outputs": [
    {
     "name": "stdout",
     "output_type": "stream",
     "text": [
      "                   Frm_SN         To_SN  Qty\n",
      "Procuct_Id                                  \n",
      "31300010401  UL1918C03281  UL1918C03300   20\n",
      "31300010401  UL1918C03321  UL1918C03340   20\n",
      "31300010401  UL1918C03481  UL1918C03500   20\n",
      "31300010401  UL1918C03841  UL1918C03860   20\n",
      "31300010401  UL1918C03901  UL1918C03920   20\n",
      "31300010401  UL1918C03941  UL1918C03960   20\n",
      "31300010401  UL1918C03981  UL1918C04000   20\n",
      "31300010401  UL1918C04041  UL1918C04060   20\n",
      "31300010401  UL1918C04081  UL1918C04100   20\n",
      "31300010401  UL1918C04121  UL1918C04140   20\n",
      "31300010401  UL1918C04141  UL1918C04160   20\n",
      "31300010401  UL1918C04241  UL1918C04260   20\n",
      "31300010401  UL1918C04341  UL1918C04360   20\n",
      "31300010401  UL1918C04361  UL1918C04380   20\n",
      "31300010401  UL1918C04401  UL1918C04420   20\n",
      "31300010401  UL1918C04441  UL1918C04460   20\n",
      "31300010401  UL1918C04541  UL1918C04560   20\n",
      "31300010401  UL1918C04621  UL1918C04640   20\n",
      "31300010401  UL1918C04641  UL1918C04660   20\n",
      "31300010401  UL1918C04661  UL1918C04680   20\n",
      "31300010401  UL1918C04681  UL1918C04700   20\n",
      "31300010401  UL1918C04721  UL1918C04740   20\n",
      "31300010401  UL1918C04761  UL1918C04780   20\n",
      "31300010401  UL1918C04781  UL1918C04800   20\n",
      "31300010401  UL1918C04821  UL1918C04840   20\n",
      "31300010401  UL1918C04981  UL1918C05000   20\n",
      "31300010401  UL1918C05021  UL1918C05040   20\n",
      "31300010401  UL1918C05081  UL1918C05100   20\n",
      "31300010401  UL1918C05141  UL1918C05160   20\n",
      "31300010401  UL1918C05181  UL1918C05200   20\n",
      "...                   ...           ...  ...\n",
      "31300010401  UL1918C20341  UL1918C20360   20\n",
      "31300010401  UL1918C20361  UL1918C20380   20\n",
      "31300010401  UL1918C20381  UL1918C20400   20\n",
      "31300010401  UL1918C20401  UL1918C20420   20\n",
      "31300010401  UL1918C20421  UL1918C20440   20\n",
      "31300010401  UL1918C20441  UL1918C20460   20\n",
      "31300010401  UL1918C20461  UL1918C20480   20\n",
      "31300010401  UL1918C20481  UL1918C20500   20\n",
      "31300010401  UL1918C20501  UL1918C20520   20\n",
      "31300010401  UL1918C20521  UL1918C20540   20\n",
      "31300010401  UL1918C20541  UL1918C20560   20\n",
      "31300010401  UL1918C20561  UL1918C20580   20\n",
      "31300010401  UL1918C20581  UL1918C20600   20\n",
      "31300010401  UL1918C20601  UL1918C20620   20\n",
      "31300010401  UL1918C20621  UL1918C20640   20\n",
      "31300010401  UL1918C20641  UL1918C20660   20\n",
      "31300010401  UL1918C20661  UL1918C20680   20\n",
      "31300010401  UL1918C20681  UL1918C20700   20\n",
      "31300010401  UL1918C20741  UL1918C20760   20\n",
      "31300010401  UL1918C20761  UL1918C20780   20\n",
      "31300010401  UL1918C20781  UL1918C20800   20\n",
      "31300010401  UL1918C20801  UL1918C20820   20\n",
      "31300010401  UL1918C20821  UL1918C20840   20\n",
      "31300010401  UL1918C20861  UL1918C20880   20\n",
      "31300010401  UL1918C20881  UL1918C20900   20\n",
      "31300010401  UL1918C20901  UL1918C20920   20\n",
      "31300010401  UL1918C20921  UL1918C20940   20\n",
      "31300010401  UL1918C20941  UL1918C20960   20\n",
      "31300010401  UL1918C20961  UL1918C20980   20\n",
      "31300010401  UL1918C20981  UL1918C21000   20\n",
      "\n",
      "[575 rows x 3 columns]\n",
      "<class 'pandas.core.frame.DataFrame'>\n"
     ]
    }
   ],
   "source": [
    "data1 = po.set_index('Procuct_Id') #设置索引\n",
    "list  = [31300010401]              #要查询的值\n",
    "data2 = data1.loc[list,['Frm_SN','To_SN','Qty']]  # 显示出Frm_SN,To_SN,Qty这三列\n",
    "print(data2)\n",
    "print(type(data2))"
   ]
  },
  {
   "cell_type": "code",
   "execution_count": null,
   "metadata": {},
   "outputs": [],
   "source": []
  },
  {
   "cell_type": "code",
   "execution_count": null,
   "metadata": {},
   "outputs": [],
   "source": []
  },
  {
   "cell_type": "code",
   "execution_count": null,
   "metadata": {},
   "outputs": [],
   "source": []
  },
  {
   "cell_type": "code",
   "execution_count": null,
   "metadata": {},
   "outputs": [],
   "source": []
  },
  {
   "cell_type": "code",
   "execution_count": null,
   "metadata": {},
   "outputs": [],
   "source": []
  },
  {
   "cell_type": "code",
   "execution_count": null,
   "metadata": {},
   "outputs": [],
   "source": []
  },
  {
   "cell_type": "code",
   "execution_count": null,
   "metadata": {},
   "outputs": [],
   "source": []
  },
  {
   "cell_type": "code",
   "execution_count": null,
   "metadata": {},
   "outputs": [],
   "source": []
  },
  {
   "cell_type": "code",
   "execution_count": null,
   "metadata": {},
   "outputs": [],
   "source": []
  },
  {
   "cell_type": "code",
   "execution_count": null,
   "metadata": {},
   "outputs": [],
   "source": []
  },
  {
   "cell_type": "code",
   "execution_count": null,
   "metadata": {},
   "outputs": [],
   "source": []
  },
  {
   "cell_type": "code",
   "execution_count": null,
   "metadata": {},
   "outputs": [],
   "source": []
  },
  {
   "cell_type": "code",
   "execution_count": null,
   "metadata": {},
   "outputs": [],
   "source": []
  },
  {
   "cell_type": "code",
   "execution_count": null,
   "metadata": {},
   "outputs": [],
   "source": []
  },
  {
   "cell_type": "code",
   "execution_count": null,
   "metadata": {},
   "outputs": [],
   "source": []
  },
  {
   "cell_type": "code",
   "execution_count": null,
   "metadata": {},
   "outputs": [],
   "source": []
  }
 ],
 "metadata": {
  "kernelspec": {
   "display_name": "Python 3",
   "language": "python",
   "name": "python3"
  },
  "language_info": {
   "codemirror_mode": {
    "name": "ipython",
    "version": 3
   },
   "file_extension": ".py",
   "mimetype": "text/x-python",
   "name": "python",
   "nbconvert_exporter": "python",
   "pygments_lexer": "ipython3",
   "version": "3.7.3"
  }
 },
 "nbformat": 4,
 "nbformat_minor": 2
}
