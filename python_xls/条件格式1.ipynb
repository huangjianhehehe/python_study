{
 "cells": [
  {
   "cell_type": "code",
   "execution_count": null,
   "metadata": {
    "collapsed": true
   },
   "outputs": [],
   "source": [
    "import  pandas as pd\n",
    "def low_socre_red(s):\n",
    "\tcolor = 'red' if s<60 else 'black'\n",
    "\treturn  f'corlor:{color}'\n",
    "\n",
    "def highest_score_green(col):\n",
    "\treturn ['background']\n",
    "\n",
    "students = pd.read_excel(r'./Students_score.xlsx')\n",
    "\n",
    "students.style.applymap(low_socre_red,subset=['Test_1','Test_2','Test_3'])"
   ]
  }
 ],
 "metadata": {
  "kernelspec": {
   "display_name": "Python 2",
   "language": "python",
   "name": "python2"
  },
  "language_info": {
   "codemirror_mode": {
    "name": "ipython",
    "version": 2
   },
   "file_extension": ".py",
   "mimetype": "text/x-python",
   "name": "python",
   "nbconvert_exporter": "python",
   "pygments_lexer": "ipython2",
   "version": "2.7.6"
  }
 },
 "nbformat": 4,
 "nbformat_minor": 0
}
